{
  "cells": [
    {
      "cell_type": "raw",
      "metadata": {},
      "source": [
        "---\n",
        "title: \"Panel discussion\"\n",
        "---"
      ],
      "id": "2d3f4b18"
    },
    {
      "cell_type": "markdown",
      "metadata": {},
      "source": [
        "```{css, echo = FALSE}\n",
        ".justify {\n",
        "  text-align: justify !important\n",
        "}\n",
        "```\n",
        "\n",
        "\n",
        "::: {.justify}\n",
        "\n",
        "Quarto enables you to weave together content and executable code into a finished document. To learn more about Quarto see <https://quarto.org>.\n",
        "\n",
        "Quarto is based on Pandoc and uses its variation of markdown as its underlying document syntax. Pandoc markdown is an extended and slightly revised version of John Gruber's Markdown syntax and Markdown is a plain text format.\n",
        "\n",
        "Markdown is a plain text format that is designed to be easy to write, and, even more importantly, easy to read:\n",
        "\n",
        ":::\n",
        "There will be a recruitment session on Saturday. Stay tuned for details!\n",
        "\n",
        "There will be a panel discussion on **Careers in data science** on Sunday, 6th April from 5 to 6:30 pm at Guild Lounge. \n",
        "\n",
        "**Meet our panelists**—from history majors to engineers, young professionals to seasoned experts—each with a unique career path in data science. Get inspired!\n",
        "\n",
        "## Panelists\n",
        "\n",
        "::: {style=\"float: left; margin: 5px;\"}\n",
        "![](images/Sanchit_tiwari.jpg){width=100%}\n",
        ":::\n",
        "\n",
        "**Sanchit Tiwari:** \n",
        "*Associate Partner at McKinsey & Company I Senior Principal at QuantumBlack, AI by McKinsey*\n",
        "\n",
        "Sanchit Tiwari is a recognized AI & Data Science leader with extensive experience in Data-Centric AI, Digital Twin, GenAI , and scalable AI solution architecture. As an Associate Partners at McKinsey & Company and Senior Principal at QuantumBlack, AI by Mckinsey, Sanchit has led large scale AI driven transformation across globe with multiple organizations. With two decades of experience, Sanchit specializes in leveraging advancement in AI and GenAI to optimize operations and business strategy. He has developed expertise in AI-powered Digital Twins and implementing AI driven automation to drive measurable business impact. Beyond his industry work, Sanchit is passionate thought leader, speaker, and mentor in the field of AI. He actively shares insights on Data Science and future of AI in enterprise. He is deeply committed bridging the gap between data science & AI research and real work applications, helping business scale data science solutions effectively. His academic foundation in computer science combined with his deep industry expertise enables him to blend Data Science research with practical business applications to create transformative solutions.\n",
        " \n",
        "\n",
        "![](images/Daniela Hurtado-Lange.png){width=20%}\n",
        "\n",
        "**Daniela Hurtado Lange** \n",
        "Assistant Professor, Kellogg School of Management, Northwestern University\n",
        "\n",
        "Daniela received her Ph.D. in Operations Research at Georgia Tech in December 2021, a Master of Science in Industrial Engineering and an undergraduate degree in Industrial Engineering and Math Engineering at Pontificia Universidad Católica the Chile. Before joining Kellogg, she spent 1.5 years as an Assistant professor of Mathematics at William & Mary. Her research interests focus on performance analysis of Stochastic Processing Networks and applied probability, which are fundamental in data science for optimizing complex systems, modeling uncertainty, and improving decision-making in areas such as machine learning, operations research, and large-scale data processing.\n"
      ],
      "id": "44b2e8d1"
    }
  ],
  "metadata": {
    "kernelspec": {
      "display_name": "Python 3",
      "language": "python",
      "name": "python3"
    }
  },
  "nbformat": 4,
  "nbformat_minor": 5
}