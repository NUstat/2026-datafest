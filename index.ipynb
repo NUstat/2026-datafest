{
  "cells": [
    {
      "cell_type": "raw",
      "metadata": {},
      "source": [
        "---\n",
        "title: \"Welcome to DataFest 2025!\"\n",
        "---"
      ],
      "id": "114216a1"
    },
    {
      "cell_type": "markdown",
      "metadata": {},
      "source": [
        "```{css, echo = FALSE}\n",
        ".justify {\n",
        "  text-align: justify !important\n",
        "}\n",
        "```\n",
        "\n",
        "\n",
        "Welcome to the official website of the first-ever DataFest at Northwestern! The event is primarily about a data science competition, where student teams compete for glory and prizes! The event also includes data scientists from both industry and academia to interact with and advise curious students. Also, there will be lots of food!\n",
        "\n",
        "## Event details\n",
        "\n",
        "**Date:** Friday, April 4 at 5 pm - Sunday, April 6 at 7 pm\n",
        "\n",
        "**Venue:** [Guild lounge (in Scott Hall)](https://www.google.com/maps/place/Scott+Hall/@42.0515594,-87.6801948,17z/data=!3m1!4b1!4m6!3m5!1s0x880fd074ca661347:0xb3d0721c09135496!8m2!3d42.0515594!4d-87.6776199!16s%2Fg%2F1tdwfjbm?entry=ttu&g_ep=EgoyMDI0MTIxMS4wIKXMDSoASAFQAw%3D%3D) on April 4 & 6, [Wildcat room 1-163 (in Norris)](https://www.google.com/maps?newwindow=1&sca_esv=e13d45d6070d9fea&rlz=1C1GCEA_enUS971US971&output=search&q=norris+northwestern&source=lnms&fbs=AEQNm0Aa4sjWe7Rqy32pFwRj0UkWd8nbOJfsBGGB5IQQO6L3JxdWbs3CkcdlHyEbrNaWhousA6g1P-W7aLn7k_lr4XDtWs7W5tBNejPwIJwUJ16r3jzyqWhg1a39ls4ML3z8pj-Ufp_krMxaJJ4-Mn3vRNfm_coqdrdQ024V3JNK6dad_yTSycrdX1pp0iJH4mG2gyqg_RuszK4V-HMOSu1vGet8w8jt3Q&entry=mc&ved=1t:200715&ictx=111) on April 5\n",
        "\n",
        "**Participants:** All UG students are invited to participate, while graduate students are invited to mentor student teams.\n",
        "\n",
        "You will be provided with a dataset and an open-ended goal on Friday evening. By Sunday afternoon, you will have to develop and present solutions to a panel of judges comprised of faculty and professionals involved in the field of Data Science. There will be prizes in many categories, such as best visualization, best use of external data, and best findings. A finalized list of categories will be announced at the beginning of the competition.\n",
        "\n",
        "The event also includes a keynote speech from a leading industry expert, and a panel discussion on *Careers in data science* comprising of both faculty and industry professionals.\n",
        "\n",
        "## What is DataFest?\n",
        "\n",
        "ASA DataFest at Northwestern is a data analysis competition organized by the Department of Statistics and Data Science at Northwestern University in collaboration with ASA *(American Statistical Association)*.\n",
        "\n",
        "Teams of 3 - 5 students analyse a potentially **large \\& complex dataset**, over a weekend. The problem statement is typically broad and open-ended, providing a lot of **room for innovation**. Your job is to **find and communicate insights** from the data that help answer the problem statement. You are encouraged to ask questions and receive advice from mentors, while working on the problem. \n",
        "\n",
        "ASA DataFest is also a great opportunity to **gain experience** that employers are looking for. Having worked on a data analysis problem at this scale will certainly help make you a good candidate for any position that **involves analysis and critical thinking**, and it will provide a concrete example to **demonstrate your experience during interviews**.\n",
        "\n",
        "You will also get the opportunity to **interact with data scientists** from industry and academia, to get some insights about a data science career.\n",
        "\n",
        "Food \\& drinks will be provided throughout the event to keep you going! We hope that everyone has an enjoyable and enlightening experience!\n",
        "\n",
        "## Previous ASA DataFests\n",
        "\n",
        "Although this is the first-ever DataFest at Northwestern, several top universities all over the world have been collaborating with ASA to host DataFests since 2011. Here is the link to the problem statements of the [previous DataFests](https://ww2.amstat.org/education/datafest/previous.cfm).\n"
      ],
      "id": "931d627f"
    }
  ],
  "metadata": {
    "kernelspec": {
      "display_name": "Python 3",
      "language": "python",
      "name": "python3"
    }
  },
  "nbformat": 4,
  "nbformat_minor": 5
}